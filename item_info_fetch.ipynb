{
 "cells": [
  {
   "cell_type": "code",
   "execution_count": 1,
   "id": "33f81bc5",
   "metadata": {},
   "outputs": [
    {
     "name": "stdout",
     "output_type": "stream",
     "text": [
      "Latest Riot patch version: 15.11.1\n"
     ]
    }
   ],
   "source": [
    "import requests\n",
    "\n",
    "def get_latest_ddragon_version():\n",
    "    versions_url = \"https://ddragon.leagueoflegends.com/api/versions.json\"\n",
    "    response = requests.get(versions_url)\n",
    "    if response.status_code == 200:\n",
    "        versions = response.json()\n",
    "        latest_version = versions[0]  # first in list is latest\n",
    "        return latest_version\n",
    "    else:\n",
    "        raise Exception(\"Failed to fetch versions from Data Dragon\")\n",
    "\n",
    "latest_version = get_latest_ddragon_version()\n",
    "print(\"Latest Riot patch version:\", latest_version)"
   ]
  },
  {
   "cell_type": "code",
   "execution_count": 4,
   "id": "041131d4",
   "metadata": {},
   "outputs": [],
   "source": [
    "url = f'http://ddragon.leagueoflegends.com/cdn/{latest_version}/data/en_US/item.json'\n",
    "response = requests.get(url)\n",
    "item_data = response.json()['data']\n",
    "\n",
    "item_stats_map = {}\n",
    "\n",
    "for item_id_str, item_info in item_data.items():\n",
    "    item_id = int(item_id_str)\n",
    "    stats = item_info.get('stats', {})\n",
    "    item_stats_map[item_id] = stats"
   ]
  },
  {
   "cell_type": "code",
   "execution_count": 6,
   "id": "5c2b92a9",
   "metadata": {},
   "outputs": [],
   "source": [
    "import json\n",
    "with open('item_info.json', 'w') as file:\n",
    "    json.dump(item_stats_map, file, indent = 4)"
   ]
  }
 ],
 "metadata": {
  "kernelspec": {
   "display_name": "cs373",
   "language": "python",
   "name": "python3"
  },
  "language_info": {
   "codemirror_mode": {
    "name": "ipython",
    "version": 3
   },
   "file_extension": ".py",
   "mimetype": "text/x-python",
   "name": "python",
   "nbconvert_exporter": "python",
   "pygments_lexer": "ipython3",
   "version": "3.10.0"
  }
 },
 "nbformat": 4,
 "nbformat_minor": 5
}
