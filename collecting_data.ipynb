{
 "cells": [
  {
   "cell_type": "code",
   "execution_count": 2,
   "metadata": {},
   "outputs": [
    {
     "name": "stdout",
     "output_type": "stream",
     "text": [
      "PUUID: vrfSU4Nh3GYoxHi2hLXg_yOczDqdE8WulZzWDLl2RZu6wtmH-e8i629HTEVbu1Uej1CpJZ3JIfXu3w\n"
     ]
    }
   ],
   "source": [
    "import requests\n",
    "from urllib.parse import quote\n",
    "\n",
    "# Replace with your Riot API key\n",
    "API_KEY = \"RGAPI-85a3927d-f264-42ce-85b8-356382fedea0\"\n",
    "GAME_NAME = \"X8Scorpio8X\"\n",
    "TAG_LINE = \"NA1\"  # do not include \"#\"\n",
    "REGION = \"americas\"\n",
    "\n",
    "def get_puuid_from_riot_id(game_name, tag_line, api_key, region):\n",
    "    # URL-encode the game name and tag line\n",
    "    game_name_encoded = quote(game_name)\n",
    "    tag_line_encoded = quote(tag_line)\n",
    "    \n",
    "    url = f\"https://{region}.api.riotgames.com/riot/account/v1/accounts/by-riot-id/{game_name_encoded}/{tag_line_encoded}\"\n",
    "    headers = {\"X-Riot-Token\": api_key}\n",
    "    \n",
    "    response = requests.get(url, headers=headers)\n",
    "    \n",
    "    if response.status_code == 200:\n",
    "        data = response.json()\n",
    "        return data[\"puuid\"]\n",
    "    else:\n",
    "        print(f\"Error {response.status_code}: {response.text}\")\n",
    "        return None\n",
    "\n",
    "# Example usage\n",
    "puuid = get_puuid_from_riot_id(GAME_NAME, TAG_LINE, API_KEY, REGION)\n",
    "if puuid:\n",
    "    print(\"PUUID:\", puuid)\n"
   ]
  }
 ],
 "metadata": {
  "kernelspec": {
   "display_name": "Python 3.10.0 ('cs373')",
   "language": "python",
   "name": "python3"
  },
  "language_info": {
   "codemirror_mode": {
    "name": "ipython",
    "version": 3
   },
   "file_extension": ".py",
   "mimetype": "text/x-python",
   "name": "python",
   "nbconvert_exporter": "python",
   "pygments_lexer": "ipython3",
   "version": "3.10.0"
  },
  "orig_nbformat": 4,
  "vscode": {
   "interpreter": {
    "hash": "7a792541cf8d73c84dc58cf3c6308fc8dbb913de38a32fb8c2e73f0b061cd994"
   }
  }
 },
 "nbformat": 4,
 "nbformat_minor": 2
}
