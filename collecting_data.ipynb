{
 "cells": [
  {
   "cell_type": "code",
   "execution_count": 3,
   "metadata": {},
   "outputs": [],
   "source": [
    "from riotwatcher import LolWatcher, ApiError\n",
    "import time\n",
    "import pandas as pd"
   ]
  },
  {
   "cell_type": "code",
   "execution_count": null,
   "metadata": {},
   "outputs": [],
   "source": []
  },
  {
   "cell_type": "code",
   "execution_count": 4,
   "metadata": {},
   "outputs": [
    {
     "name": "stdout",
     "output_type": "stream",
     "text": [
      "API error 400. Skipping.\n",
      "Error with summoner X8Scorpio8X: 'NoneType' object is not subscriptable\n",
      "Empty DataFrame\n",
      "Columns: []\n",
      "Index: []\n"
     ]
    }
   ],
   "source": [
    "# === Set up ===\n",
    "api_key = 'RGAPI-db3b2160-c70a-4435-b7e4-4e5bf0fd2aa6'  # Replace with your API key\n",
    "watcher = LolWatcher(api_key)\n",
    "region = 'na1'  # Use appropriate region (e.g., 'euw1', 'kr', 'na1')\n",
    "\n",
    "# Seed summoner names (can be real or your own list)\n",
    "summoners = ['X8Scorpio8X']\n",
    "\n",
    "match_ids_collected = set()\n",
    "matches_data = []\n",
    "\n",
    "def safe_api_call(func, *args, retries=3, **kwargs):\n",
    "    for _ in range(retries):\n",
    "        try:\n",
    "            return func(*args, **kwargs)\n",
    "        except ApiError as err:\n",
    "            if err.response.status_code == 429:\n",
    "                print(\"Rate limit hit. Sleeping...\")\n",
    "                time.sleep(120)\n",
    "            elif err.response.status_code == 403:\n",
    "                raise Exception(\"Invalid or expired API key.\")\n",
    "            else:\n",
    "                print(f\"API error {err.response.status_code}. Skipping.\")\n",
    "                return None\n",
    "\n",
    "def get_team_features(match):\n",
    "    features = []\n",
    "    for team in match['info']['teams']:\n",
    "        stats = {\n",
    "            'win': team['win'],\n",
    "            'baron_kills': team['objectives']['baron']['kills'],\n",
    "            'dragon_kills': team['objectives']['dragon']['kills'],\n",
    "            'tower_kills': team['objectives']['tower']['kills'],\n",
    "            'inhibitor_kills': team['objectives']['inhibitor']['kills'],\n",
    "            'rift_herald_kills': team['objectives']['riftHerald']['kills'],\n",
    "        }\n",
    "        features.append(stats)\n",
    "    return features\n",
    "\n",
    "# === Main loop ===\n",
    "for name in summoners:\n",
    "    try:\n",
    "        summoner = safe_api_call(watcher.summoner.by_account, region, name)\n",
    "        puuid = summoner['puuid']\n",
    "        match_ids = safe_api_call(watcher.match.matchlist_by_puuid, 'americas', puuid, type='ranked', count=10)\n",
    "        if match_ids:\n",
    "            for match_id in match_ids:\n",
    "                if match_id in match_ids_collected:\n",
    "                    continue\n",
    "                match_data = safe_api_call(watcher.match.by_id, 'americas', match_id)\n",
    "                if match_data:\n",
    "                    team_stats = get_team_features(match_data)\n",
    "                    matches_data.extend(team_stats)\n",
    "                    match_ids_collected.add(match_id)\n",
    "                if len(matches_data) >= 100:\n",
    "                    break\n",
    "        if len(matches_data) >= 100:\n",
    "            break\n",
    "    except Exception as e:\n",
    "        print(f\"Error with summoner {name}: {e}\")\n",
    "        continue\n",
    "\n",
    "# === Save to DataFrame ===\n",
    "df = pd.DataFrame(matches_data)\n",
    "print(df.head())\n"
   ]
  },
  {
   "cell_type": "code",
   "execution_count": 8,
   "metadata": {},
   "outputs": [
    {
     "ename": "HTTPError",
     "evalue": "400 Client Error: Bad Request for url: https://na.api.riotgames.com/lol/summoner/v4/summoners/by-name/X8Scorpio8X",
     "output_type": "error",
     "traceback": [
      "\u001b[0;31m---------------------------------------------------------------------------\u001b[0m",
      "\u001b[0;31mHTTPError\u001b[0m                                 Traceback (most recent call last)",
      "File \u001b[0;32m~/miniconda3/envs/cs373/lib/python3.10/site-packages/riotwatcher/Handlers/ThrowOnErrorHandler.py:18\u001b[0m, in \u001b[0;36mThrowOnErrorHandler.after_request\u001b[0;34m(self, region, endpoint_name, method_name, url, response)\u001b[0m\n\u001b[1;32m     17\u001b[0m \u001b[39mtry\u001b[39;00m:\n\u001b[0;32m---> 18\u001b[0m     response\u001b[39m.\u001b[39;49mraise_for_status()\n\u001b[1;32m     19\u001b[0m \u001b[39mexcept\u001b[39;00m requests\u001b[39m.\u001b[39mHTTPError \u001b[39mas\u001b[39;00m err:\n",
      "File \u001b[0;32m~/miniconda3/envs/cs373/lib/python3.10/site-packages/requests/models.py:1021\u001b[0m, in \u001b[0;36mResponse.raise_for_status\u001b[0;34m(self)\u001b[0m\n\u001b[1;32m   1020\u001b[0m \u001b[39mif\u001b[39;00m http_error_msg:\n\u001b[0;32m-> 1021\u001b[0m     \u001b[39mraise\u001b[39;00m HTTPError(http_error_msg, response\u001b[39m=\u001b[39m\u001b[39mself\u001b[39m)\n",
      "\u001b[0;31mHTTPError\u001b[0m: 400 Client Error: Bad Request for url: https://na.api.riotgames.com/lol/summoner/v4/summoners/by-name/X8Scorpio8X",
      "\nDuring handling of the above exception, another exception occurred:\n",
      "\u001b[0;31mHTTPError\u001b[0m                                 Traceback (most recent call last)",
      "Cell \u001b[0;32mIn[8], line 7\u001b[0m\n\u001b[1;32m      4\u001b[0m watcher \u001b[38;5;241m=\u001b[39m LolWatcher(api_key)\n\u001b[1;32m      5\u001b[0m region \u001b[38;5;241m=\u001b[39m \u001b[38;5;124m'\u001b[39m\u001b[38;5;124mna\u001b[39m\u001b[38;5;124m'\u001b[39m\n\u001b[0;32m----> 7\u001b[0m summoner \u001b[38;5;241m=\u001b[39m \u001b[43mwatcher\u001b[49m\u001b[38;5;241;43m.\u001b[39;49m\u001b[43msummoner\u001b[49m\u001b[38;5;241;43m.\u001b[39;49m\u001b[43mby_name\u001b[49m\u001b[43m(\u001b[49m\u001b[43mregion\u001b[49m\u001b[43m,\u001b[49m\u001b[43m \u001b[49m\u001b[38;5;124;43m'\u001b[39;49m\u001b[38;5;124;43mX8Scorpio8X\u001b[39;49m\u001b[38;5;124;43m'\u001b[39;49m\u001b[43m)\u001b[49m\n\u001b[1;32m      8\u001b[0m \u001b[38;5;28mprint\u001b[39m(summoner)\n",
      "File \u001b[0;32m~/miniconda3/envs/cs373/lib/python3.10/site-packages/riotwatcher/_apis/league_of_legends/SummonerApiV4.py:46\u001b[0m, in \u001b[0;36mSummonerApiV4.by_name\u001b[0;34m(self, region, summoner_name)\u001b[0m\n\u001b[1;32m     37\u001b[0m \u001b[39mdef\u001b[39;00m \u001b[39mby_name\u001b[39m(\u001b[39mself\u001b[39m, region: \u001b[39mstr\u001b[39m, summoner_name: \u001b[39mstr\u001b[39m):\n\u001b[1;32m     38\u001b[0m \u001b[39m    \u001b[39m\u001b[39m\"\"\"\u001b[39;00m\n\u001b[1;32m     39\u001b[0m \u001b[39m    Get a summoner by summoner name\u001b[39;00m\n\u001b[1;32m     40\u001b[0m \n\u001b[0;32m   (...)\u001b[0m\n\u001b[1;32m     44\u001b[0m \u001b[39m    :returns: SummonerDTO: represents a summoner\u001b[39;00m\n\u001b[1;32m     45\u001b[0m \u001b[39m    \"\"\"\u001b[39;00m\n\u001b[0;32m---> 46\u001b[0m     \u001b[39mreturn\u001b[39;00m \u001b[39mself\u001b[39;49m\u001b[39m.\u001b[39;49m_request_endpoint(\n\u001b[1;32m     47\u001b[0m         \u001b[39mself\u001b[39;49m\u001b[39m.\u001b[39;49mby_name\u001b[39m.\u001b[39;49m\u001b[39m__name__\u001b[39;49m,\n\u001b[1;32m     48\u001b[0m         region,\n\u001b[1;32m     49\u001b[0m         SummonerApiV4Urls\u001b[39m.\u001b[39;49mby_name,\n\u001b[1;32m     50\u001b[0m         summoner_name\u001b[39m=\u001b[39;49msummoner_name,\n\u001b[1;32m     51\u001b[0m     )\n",
      "File \u001b[0;32m~/miniconda3/envs/cs373/lib/python3.10/site-packages/riotwatcher/_apis/NamedEndpoint.py:36\u001b[0m, in \u001b[0;36mNamedEndpoint._request_endpoint\u001b[0;34m(self, method_name, region, endpoint, **kwargs)\u001b[0m\n\u001b[1;32m     26\u001b[0m \u001b[39m\u001b[39m\u001b[39m\"\"\"\u001b[39;00m\n\u001b[1;32m     27\u001b[0m \u001b[39mSends a request through the BaseApi instance provided, injecting the provided\u001b[39;00m\n\u001b[1;32m     28\u001b[0m \u001b[39mendpoint_name into the method call, so the caller doesn't have to.\u001b[39;00m\n\u001b[0;32m   (...)\u001b[0m\n\u001b[1;32m     33\u001b[0m \u001b[39m                            parameters\u001b[39;00m\n\u001b[1;32m     34\u001b[0m \u001b[39m\"\"\"\u001b[39;00m\n\u001b[1;32m     35\u001b[0m url, query \u001b[39m=\u001b[39m endpoint(platform\u001b[39m=\u001b[39mregion, \u001b[39m*\u001b[39m\u001b[39m*\u001b[39mkwargs)\n\u001b[0;32m---> 36\u001b[0m \u001b[39mreturn\u001b[39;00m \u001b[39mself\u001b[39;49m\u001b[39m.\u001b[39;49m_base_api\u001b[39m.\u001b[39;49mraw_request(\n\u001b[1;32m     37\u001b[0m     \u001b[39mself\u001b[39;49m\u001b[39m.\u001b[39;49m_endpoint_name, method_name, region, url, query\n\u001b[1;32m     38\u001b[0m )\n",
      "File \u001b[0;32m~/miniconda3/envs/cs373/lib/python3.10/site-packages/riotwatcher/_apis/BaseApi.py:51\u001b[0m, in \u001b[0;36mBaseApi.raw_request\u001b[0;34m(self, endpoint_name, method_name, region, url, query_params)\u001b[0m\n\u001b[1;32m     49\u001b[0m \u001b[39mif\u001b[39;00m \u001b[39mself\u001b[39m\u001b[39m.\u001b[39m_request_handlers \u001b[39mis\u001b[39;00m \u001b[39mnot\u001b[39;00m \u001b[39mNone\u001b[39;00m:\n\u001b[1;32m     50\u001b[0m     \u001b[39mfor\u001b[39;00m handler \u001b[39min\u001b[39;00m \u001b[39mself\u001b[39m\u001b[39m.\u001b[39m_request_handlers[early_ret_idx:\u001b[39mNone\u001b[39;00m:\u001b[39m-\u001b[39m\u001b[39m1\u001b[39m]:\n\u001b[0;32m---> 51\u001b[0m         mod \u001b[39m=\u001b[39m handler\u001b[39m.\u001b[39;49mafter_request(\n\u001b[1;32m     52\u001b[0m             region, endpoint_name, method_name, url, response\n\u001b[1;32m     53\u001b[0m         )\n\u001b[1;32m     54\u001b[0m         \u001b[39mif\u001b[39;00m mod \u001b[39mis\u001b[39;00m \u001b[39mnot\u001b[39;00m \u001b[39mNone\u001b[39;00m:\n\u001b[1;32m     55\u001b[0m             response \u001b[39m=\u001b[39m mod\n",
      "File \u001b[0;32m~/miniconda3/envs/cs373/lib/python3.10/site-packages/riotwatcher/Handlers/ThrowOnErrorHandler.py:20\u001b[0m, in \u001b[0;36mThrowOnErrorHandler.after_request\u001b[0;34m(self, region, endpoint_name, method_name, url, response)\u001b[0m\n\u001b[1;32m     18\u001b[0m     response\u001b[39m.\u001b[39mraise_for_status()\n\u001b[1;32m     19\u001b[0m \u001b[39mexcept\u001b[39;00m requests\u001b[39m.\u001b[39mHTTPError \u001b[39mas\u001b[39;00m err:\n\u001b[0;32m---> 20\u001b[0m     \u001b[39mraise\u001b[39;00m ApiError(\u001b[39m*\u001b[39merr\u001b[39m.\u001b[39margs, request\u001b[39m=\u001b[39merr\u001b[39m.\u001b[39mrequest, response\u001b[39m=\u001b[39merr\u001b[39m.\u001b[39mresponse)\n",
      "\u001b[0;31mHTTPError\u001b[0m: 400 Client Error: Bad Request for url: https://na.api.riotgames.com/lol/summoner/v4/summoners/by-name/X8Scorpio8X"
     ]
    }
   ],
   "source": [
    "api_key = 'RGAPI-db3b2160-c70a-4435-b7e4-4e5bf0fd2aa6'\n",
    "watcher = LolWatcher(api_key)\n",
    "region = 'na1'\n",
    "\n",
    "summoner = watcher.summoner.by_name(region, 'X8Scorpio8X')\n",
    "print(summoner)"
   ]
  }
 ],
 "metadata": {
  "kernelspec": {
   "display_name": "Python 3.10.0 ('cs373')",
   "language": "python",
   "name": "python3"
  },
  "language_info": {
   "codemirror_mode": {
    "name": "ipython",
    "version": 3
   },
   "file_extension": ".py",
   "mimetype": "text/x-python",
   "name": "python",
   "nbconvert_exporter": "python",
   "pygments_lexer": "ipython3",
   "version": "3.10.0"
  },
  "orig_nbformat": 4,
  "vscode": {
   "interpreter": {
    "hash": "7a792541cf8d73c84dc58cf3c6308fc8dbb913de38a32fb8c2e73f0b061cd994"
   }
  }
 },
 "nbformat": 4,
 "nbformat_minor": 2
}
