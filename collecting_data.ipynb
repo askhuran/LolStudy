{
 "cells": [
  {
   "cell_type": "code",
   "execution_count": 7,
   "metadata": {},
   "outputs": [
    {
     "name": "stdout",
     "output_type": "stream",
     "text": [
      "Loaded URL: https://www.op.gg/summoners/na/X8Scorpio8X-NA1\n",
      "Error during scraping: Message: \n",
      "Stacktrace:\n",
      "0   chromedriver                        0x00000001034eea54 cxxbridge1$str$ptr + 2803960\n",
      "1   chromedriver                        0x00000001034e6cf0 cxxbridge1$str$ptr + 2771860\n",
      "2   chromedriver                        0x0000000103032864 cxxbridge1$string$len + 93028\n",
      "3   chromedriver                        0x0000000103079410 cxxbridge1$string$len + 382736\n",
      "4   chromedriver                        0x00000001030ba480 cxxbridge1$string$len + 649088\n",
      "5   chromedriver                        0x000000010306d7ec cxxbridge1$string$len + 334572\n",
      "6   chromedriver                        0x00000001034b3ccc cxxbridge1$str$ptr + 2562928\n",
      "7   chromedriver                        0x00000001034b6f98 cxxbridge1$str$ptr + 2575932\n",
      "8   chromedriver                        0x00000001034942c4 cxxbridge1$str$ptr + 2433384\n",
      "9   chromedriver                        0x00000001034b7810 cxxbridge1$str$ptr + 2578100\n",
      "10  chromedriver                        0x00000001034852f0 cxxbridge1$str$ptr + 2371988\n",
      "11  chromedriver                        0x00000001034d757c cxxbridge1$str$ptr + 2708512\n",
      "12  chromedriver                        0x00000001034d7708 cxxbridge1$str$ptr + 2708908\n",
      "13  chromedriver                        0x00000001034e693c cxxbridge1$str$ptr + 2770912\n",
      "14  libsystem_pthread.dylib             0x00000001866b1034 _pthread_start + 136\n",
      "15  libsystem_pthread.dylib             0x00000001866abe3c thread_start + 8\n",
      "\n",
      "Failed to retrieve match data\n"
     ]
    }
   ],
   "source": [
    "import pandas as pd\n",
    "from selenium import webdriver\n",
    "from selenium.webdriver.common.by import By\n",
    "from selenium.webdriver.support.ui import WebDriverWait\n",
    "from selenium.webdriver.support import expected_conditions as EC\n",
    "from bs4 import BeautifulSoup\n",
    "import time\n",
    "\n",
    "def get_opgg_match_stats(summoner_name, tagline='NA1', region='na'):\n",
    "    \"\"\"Scrape last 10 matches' win/loss, gold diff, and dragons from OP.GG\"\"\"\n",
    "    \n",
    "    # Set up Selenium with options\n",
    "    options = webdriver.ChromeOptions()\n",
    "    options.add_argument('--headless')\n",
    "    options.add_argument('--disable-blink-features=AutomationControlled')\n",
    "    options.add_argument('--no-sandbox')\n",
    "    options.add_argument('--disable-dev-shm-usage')\n",
    "    \n",
    "    driver = webdriver.Chrome(options=options)\n",
    "    \n",
    "    # Construct correct URL format\n",
    "    url = f\"https://www.op.gg/summoners/{region}/{summoner_name}-{tagline}\"\n",
    "    \n",
    "    try:\n",
    "        # Load page\n",
    "        driver.get(url)\n",
    "        print(f\"Loaded URL: {url}\")  # Debug print\n",
    "        \n",
    "        # First wait for the page to load (check for summoner name element)\n",
    "        WebDriverWait(driver, 20).until(\n",
    "            EC.presence_of_element_located((By.CSS_SELECTOR, \"h1.summoner-name\"))\n",
    "        )\n",
    "        print(\"Summoner name found\")  # Debug print\n",
    "        \n",
    "        # Wait specifically for match history section\n",
    "        WebDriverWait(driver, 20).until(\n",
    "            EC.presence_of_element_located((By.CSS_SELECTOR, \"div.css-1g3kmsj.e1iiyghw6\"))\n",
    "        )\n",
    "        print(\"Match history section found\")  # Debug print\n",
    "        \n",
    "        # Scroll to load more matches\n",
    "        driver.execute_script(\"window.scrollTo(0, document.body.scrollHeight);\")\n",
    "        time.sleep(2)\n",
    "        \n",
    "        # Parse with BeautifulSoup\n",
    "        soup = BeautifulSoup(driver.page_source, 'html.parser')\n",
    "        \n",
    "        # Prepare data list\n",
    "        matches = []\n",
    "        \n",
    "        # Extract data from each match (last 10)\n",
    "        match_items = soup.select('div.css-1g3kmsj.e1iiyghw6 > div')\n",
    "        print(f\"Found {len(match_items)} match items\")  # Debug print\n",
    "        \n",
    "        for match in match_items[:10]:\n",
    "            try:\n",
    "                # Win/Loss\n",
    "                result = match.select_one('div.result').get_text(strip=True) if match.select_one('div.result') else None\n",
    "                \n",
    "                # Gold difference\n",
    "                gold_diff = match.select_one('div.stats div.gold').get_text(strip=True) if match.select_one('div.stats div.gold') else None\n",
    "                \n",
    "                # Dragons taken\n",
    "                dragons = match.select_one('div.stats div.dragon').get_text(strip=True) if match.select_one('div.stats div.dragon') else None\n",
    "                \n",
    "                matches.append({\n",
    "                    'result': result,\n",
    "                    'gold_diff': gold_diff,\n",
    "                    'dragons': dragons\n",
    "                })\n",
    "            except Exception as e:\n",
    "                print(f\"Error processing match: {str(e)}\")\n",
    "                continue\n",
    "        \n",
    "        # Create DataFrame\n",
    "        df = pd.DataFrame(matches)\n",
    "        \n",
    "        # Clean data if we got results\n",
    "        if not df.empty:\n",
    "            if 'gold_diff' in df.columns:\n",
    "                df['gold_diff'] = df['gold_diff'].str.extract(r'([\\d.]+)k')[0].astype(float) * 1000\n",
    "            if 'dragons' in df.columns:\n",
    "                df['dragons'] = pd.to_numeric(df['dragons'].str.extract(r'(\\d+)')[0], errors='coerce').fillna(0).astype(int)\n",
    "        \n",
    "        return df\n",
    "    \n",
    "    except Exception as e:\n",
    "        print(f\"Error during scraping: {str(e)}\")\n",
    "        return pd.DataFrame()  # Return empty DataFrame on error\n",
    "    finally:\n",
    "        driver.quit()\n",
    "\n",
    "# Example usage\n",
    "if __name__ == \"__main__\":\n",
    "    df = get_opgg_match_stats(\"X8Scorpio8X\", \"NA1\", \"na\")\n",
    "    if not df.empty:\n",
    "        print(\"\\nMatch History Stats:\")\n",
    "        print(df)\n",
    "    else:\n",
    "        print(\"Failed to retrieve match data\")"
   ]
  },
  {
   "cell_type": "code",
   "execution_count": 5,
   "metadata": {},
   "outputs": [
    {
     "name": "stdout",
     "output_type": "stream",
     "text": [
      "https://www.op.gg/summoners/na/hello\n"
     ]
    }
   ],
   "source": [
    "summoner_name = \"hello\"\n",
    "print(f\"https://www.op.gg/summoners/na/{summoner_name.replace(' ', '%20')}\")"
   ]
  },
  {
   "cell_type": "markdown",
   "metadata": {},
   "source": []
  },
  {
   "cell_type": "code",
   "execution_count": null,
   "metadata": {},
   "outputs": [],
   "source": []
  },
  {
   "cell_type": "code",
   "execution_count": null,
   "metadata": {},
   "outputs": [],
   "source": []
  }
 ],
 "metadata": {
  "kernelspec": {
   "display_name": "Python 3.10.0 ('cs373')",
   "language": "python",
   "name": "python3"
  },
  "language_info": {
   "codemirror_mode": {
    "name": "ipython",
    "version": 3
   },
   "file_extension": ".py",
   "mimetype": "text/x-python",
   "name": "python",
   "nbconvert_exporter": "python",
   "pygments_lexer": "ipython3",
   "version": "3.10.0"
  },
  "orig_nbformat": 4,
  "vscode": {
   "interpreter": {
    "hash": "7a792541cf8d73c84dc58cf3c6308fc8dbb913de38a32fb8c2e73f0b061cd994"
   }
  }
 },
 "nbformat": 4,
 "nbformat_minor": 2
}
