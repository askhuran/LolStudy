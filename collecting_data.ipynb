{
 "cells": [
  {
   "cell_type": "code",
   "execution_count": 7,
   "metadata": {},
   "outputs": [
    {
     "name": "stdout",
     "output_type": "stream",
     "text": [
      "Error 403: {\"status\":{\"message\":\"Forbidden\",\"status_code\":403}}\n"
     ]
    }
   ],
   "source": [
    "import requests\n",
    "\n",
    "API_KEY = \"RGAPI-xxxxxxxx-xxxx-xxxx-xxxx-xxxxxxxxxxxx\"\n",
    "SUMMONER_NAME = \"Doublelift\"\n",
    "REGION = \"na1\"\n",
    "\n",
    "def get_puuid(summoner_name, api_key, region):\n",
    "    url = f\"https://{region}.api.riotgames.com/lol/summoner/v4/summoners/by-name/{summoner_name}\"\n",
    "    headers = {\"X-Riot-Token\": api_key}\n",
    "    response = requests.get(url, headers=headers)\n",
    "\n",
    "    if response.status_code == 200:\n",
    "        data = response.json()\n",
    "        return data[\"puuid\"]\n",
    "    else:\n",
    "        print(f\"Error {response.status_code}: {response.text}\")\n",
    "        return None\n",
    "\n",
    "puuid = get_puuid(SUMMONER_NAME, API_KEY, REGION)\n",
    "if puuid:\n",
    "    print(\"PUUID:\", puuid)\n"
   ]
  }
 ],
 "metadata": {
  "kernelspec": {
   "display_name": "Python 3.10.0 ('cs373')",
   "language": "python",
   "name": "python3"
  },
  "language_info": {
   "codemirror_mode": {
    "name": "ipython",
    "version": 3
   },
   "file_extension": ".py",
   "mimetype": "text/x-python",
   "name": "python",
   "nbconvert_exporter": "python",
   "pygments_lexer": "ipython3",
   "version": "3.10.0"
  },
  "orig_nbformat": 4,
  "vscode": {
   "interpreter": {
    "hash": "7a792541cf8d73c84dc58cf3c6308fc8dbb913de38a32fb8c2e73f0b061cd994"
   }
  }
 },
 "nbformat": 4,
 "nbformat_minor": 2
}
